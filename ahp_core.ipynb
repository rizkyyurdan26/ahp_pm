{
 "cells": [
  {
   "cell_type": "markdown",
   "metadata": {},
   "source": [
    "### Menghitung bobot untuk parameter utama"
   ]
  },
  {
   "cell_type": "code",
   "execution_count": 4,
   "metadata": {},
   "outputs": [
    {
     "name": "stdout",
     "output_type": "stream",
     "text": [
      "Comparism Matrix\n",
      "           iklim  topografi  tanah  Geometris  Weight\n",
      "iklim      1.000       2.00    3.0      1.817   0.517\n",
      "topografi  0.500       1.00    4.0      1.260   0.359\n",
      "tanah      0.333       0.25    1.0      0.437   0.124\n",
      "\n",
      "Jumlah Bobot = 1.0\n",
      "\n",
      "Lambda_max= 3.1078\n",
      "RI= 3 : 0.58\n",
      "CI= 0.0539\n",
      "CR= 0.09297\n",
      "\n",
      "Bobot konsisten\n"
     ]
    }
   ],
   "source": [
    "import numpy as np\n",
    "import pandas as pd\n",
    "\n",
    "# Input dari user\n",
    "iklim_topografi = 2\n",
    "iklim_tanah = 3\n",
    "topografi_tanah = 4\n",
    "\n",
    "Dict_RI = {\n",
    "    1: 0.00, \n",
    "    2: 0.00, \n",
    "    3: 0.58, \n",
    "    4: 0.90, \n",
    "    5: 1.12, \n",
    "    6: 1.24, \n",
    "    7: 1.32, \n",
    "    8: 1.41, \n",
    "    9: 1.45\n",
    "}\n",
    "\n",
    "def AHP_rumus(iklim_topografi, iklim_tanah, topografi_tanah):\n",
    "    # Nilai default untuk iklim, topografi, tanah\n",
    "    iklim, topografi, tanah = 1, 1, 1\n",
    "\n",
    "    # Membuat matriks perbandingan\n",
    "    matrix_comparism = np.array([\n",
    "        [iklim, iklim_topografi, iklim_tanah],\n",
    "        [1/iklim_topografi, topografi, topografi_tanah],\n",
    "        [1/iklim_tanah, 1/topografi_tanah, tanah]\n",
    "    ])\n",
    "\n",
    "    df = pd.DataFrame(matrix_comparism, \n",
    "                  index=['iklim', 'topografi', 'tanah'],\n",
    "                  columns=['iklim', 'topografi', 'tanah'])\n",
    "\n",
    "    n = matrix_comparism.shape[0]  \n",
    "    \n",
    "    # Menghitung M_i = Perkalian dari setiap elemen pada baris\n",
    "    M_i = np.prod(matrix_comparism, axis=1)\n",
    "\n",
    "    #  Menghitung W_bar_i = Akar pangkat n dari M_i\n",
    "    W_bar_i = np.power(M_i, 1/n)\n",
    "\n",
    "    # Normalisasi W_i = W_bar_i / Jumlah W_bar_i\n",
    "    W_i = W_bar_i / np.sum(W_bar_i)\n",
    "\n",
    "    df['Geometris'] = W_bar_i\n",
    "    df[\"Weight\"]= W_i\n",
    "\n",
    "    #menghitung lambda max (matrix_comparism * W_i)\n",
    "    AW= np.dot(matrix_comparism, W_i)\n",
    "    lambda_max = np.sum(AW / (n*W_i))\n",
    "\n",
    "    #menghitung CI\n",
    "    CI = (lambda_max - n)/(n-1)\n",
    "    \n",
    "    #menghitung CR\n",
    "    RI = Dict_RI[n]\n",
    "    CR = CI/RI\n",
    "\n",
    "    #print output\n",
    "    print(\"Comparism Matrix\")\n",
    "    print(df.round(3))\n",
    "    print(f'\\nJumlah Bobot = {W_i.sum()}')\n",
    "    print(f'\\nLambda_max= {lambda_max:.4f}')\n",
    "    print(f'RI= {n} : {RI}')\n",
    "    print(f'CI= {CI:.4f}')\n",
    "    print(f'CR= {CR:.4}')\n",
    "\n",
    "    if CR < 0.1:\n",
    "        print(\"\\nBobot konsisten\")\n",
    "    else:\n",
    "        print(\"Bobot Tidak Konsisten\")\n",
    "    return W_i, lambda_max, CI, CR, RI\n",
    "\n",
    "# Memanggil fungsi AHP\n",
    "weight, lambda_max, CI, CR, RI = AHP_rumus(iklim_topografi, iklim_tanah, topografi_tanah)\n",
    "\n"
   ]
  }
 ],
 "metadata": {
  "kernelspec": {
   "display_name": "Python 3",
   "language": "python",
   "name": "python3"
  },
  "language_info": {
   "codemirror_mode": {
    "name": "ipython",
    "version": 3
   },
   "file_extension": ".py",
   "mimetype": "text/x-python",
   "name": "python",
   "nbconvert_exporter": "python",
   "pygments_lexer": "ipython3",
   "version": "3.11.5"
  }
 },
 "nbformat": 4,
 "nbformat_minor": 2
}
