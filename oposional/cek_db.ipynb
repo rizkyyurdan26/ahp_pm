{
 "cells": [
  {
   "cell_type": "markdown",
   "metadata": {},
   "source": [
    "CREATE DB"
   ]
  },
  {
   "cell_type": "code",
   "execution_count": 1,
   "metadata": {},
   "outputs": [],
   "source": [
    "import mysql.connector as mysql\n",
    "\n",
    "db = mysql.connect(\n",
    "    host=\"localhost\",\n",
    "    user=\"root\",\n",
    "    password=\"\",\n",
    "    \n",
    ")\n",
    "cursor = db.cursor()\n",
    "\n"
   ]
  },
  {
   "cell_type": "code",
   "execution_count": 2,
   "metadata": {},
   "outputs": [],
   "source": [
    "#membuat database\n",
    "cursor.execute(\"CREATE DATABASE IF NOT EXISTS dataset\")\n"
   ]
  },
  {
   "cell_type": "markdown",
   "metadata": {},
   "source": [
    "CEK DATABASE"
   ]
  },
  {
   "cell_type": "code",
   "execution_count": 3,
   "metadata": {},
   "outputs": [
    {
     "name": "stdout",
     "output_type": "stream",
     "text": [
      "[('cancer_diagnosis',), ('dataset',), ('information_schema',), ('mydatabase',), ('mysql',), ('performance_schema',), ('phpmyadmin',), ('test',), ('testing',), ('user_login',)]\n"
     ]
    }
   ],
   "source": [
    "cursor.execute(\"SHOW DATABASES\")\n",
    "data = cursor.fetchall()\n",
    "print(data)"
   ]
  },
  {
   "cell_type": "code",
   "execution_count": 4,
   "metadata": {},
   "outputs": [],
   "source": [
    "# cursor.execute('DROP DATABASE dataset_lahan')"
   ]
  },
  {
   "cell_type": "markdown",
   "metadata": {},
   "source": [
    "LOAD DATASET TO TABLE DATABASE"
   ]
  },
  {
   "cell_type": "code",
   "execution_count": 5,
   "metadata": {},
   "outputs": [],
   "source": [
    "import pandas as pd\n",
    "from sqlalchemy import create_engine"
   ]
  },
  {
   "cell_type": "markdown",
   "metadata": {},
   "source": [
    "Load Data lahan"
   ]
  },
  {
   "cell_type": "code",
   "execution_count": 6,
   "metadata": {},
   "outputs": [
    {
     "data": {
      "text/plain": [
       "22"
      ]
     },
     "execution_count": 6,
     "metadata": {},
     "output_type": "execute_result"
    }
   ],
   "source": [
    "db_url = 'mysql+pymysql://root:@localhost/dataset'  \n",
    "engine = create_engine(db_url)\n",
    "\n",
    "# Membaca file Excel yang berbeda untuk masing-masing tabel\n",
    "file_path_lahan_tanah = '../dataset/split_data/lahan_tanah.xlsx'  \n",
    "file_path_lahan_iklim = '../dataset/split_data/lahan_iklim.xlsx' \n",
    "file_path_lahan_topografi = '../dataset/split_data/lahan_topografi.xlsx' \n",
    "\n",
    "\n",
    "# Membaca data dari file Excel\n",
    "lahan_tanah = pd.read_excel(file_path_lahan_tanah)\n",
    "lahan_iklim = pd.read_excel(file_path_lahan_iklim)\n",
    "lahan_topografi = pd.read_excel(file_path_lahan_topografi)\n",
    "\n",
    "\n",
    "# Memasukkan data_lahan ke tabel (tabel dibuat otomatis sesuai dtype dari Excel)\n",
    "lahan_tanah.to_sql('lahan_tanah', con=engine, if_exists='replace', index=False)\n",
    "lahan_iklim.to_sql('lahan_iklim', con=engine, if_exists='replace', index=False)\n",
    "lahan_topografi.to_sql('lahan_topografi', con=engine, if_exists='replace', index=False)\n",
    "\n"
   ]
  },
  {
   "cell_type": "markdown",
   "metadata": {},
   "source": [
    "\n",
    "Load data varietas"
   ]
  },
  {
   "cell_type": "code",
   "execution_count": 7,
   "metadata": {},
   "outputs": [
    {
     "data": {
      "text/plain": [
       "5"
      ]
     },
     "execution_count": 7,
     "metadata": {},
     "output_type": "execute_result"
    }
   ],
   "source": [
    "db_url = 'mysql+pymysql://root:@localhost/dataset'  \n",
    "engine = create_engine(db_url)\n",
    "\n",
    "# Membaca file Excel yang berbeda untuk masing-masing tabel\n",
    "file_path_varietas_tanah = '../dataset/split_data/varietas_tanah.xlsx'  \n",
    "file_path_varietas_iklim = '../dataset/split_data/varietas_iklim.xlsx' \n",
    "file_path_varietas_topografi = '../dataset/split_data/varietas_topografi.xlsx' \n",
    "\n",
    "\n",
    "# Membaca data dari file Excel\n",
    "varietas_tanah = pd.read_excel(file_path_varietas_tanah)\n",
    "varietas_iklim = pd.read_excel(file_path_varietas_iklim)\n",
    "varietas_topografi = pd.read_excel(file_path_varietas_topografi)\n",
    "\n",
    "\n",
    "# Memasukkan data_varietas ke tabel (tabel dibuat otomatis sesuai dtype dari Excel)\n",
    "varietas_tanah.to_sql('varietas_tanah', con=engine, if_exists='replace', index=False)\n",
    "varietas_iklim.to_sql('varietas_iklim', con=engine, if_exists='replace', index=False)\n",
    "varietas_topografi.to_sql('varietas_topografi', con=engine, if_exists='replace', index=False)\n",
    "\n"
   ]
  },
  {
   "cell_type": "markdown",
   "metadata": {},
   "source": [
    "CEK TABEL"
   ]
  },
  {
   "cell_type": "code",
   "execution_count": 8,
   "metadata": {},
   "outputs": [
    {
     "name": "stdout",
     "output_type": "stream",
     "text": [
      "[('lahan_iklim',), ('lahan_tanah',), ('lahan_topografi',), ('varietas_iklim',), ('varietas_tanah',), ('varietas_topografi',)]\n"
     ]
    }
   ],
   "source": [
    "db.database = \"dataset\"\n",
    "\n",
    "cursor.execute(\"show tables\")\n",
    "data = cursor.fetchall()\n",
    "print(data)"
   ]
  },
  {
   "cell_type": "markdown",
   "metadata": {},
   "source": [
    "CEK ISI TABLE"
   ]
  },
  {
   "cell_type": "code",
   "execution_count": 12,
   "metadata": {},
   "outputs": [
    {
     "name": "stdout",
     "output_type": "stream",
     "text": [
      "jenis_varietas           object\n",
      "ph_min                  float64\n",
      "ph_max                  float64\n",
      "kelembapan_tanah_min    float64\n",
      "kelembapan_tanah_max    float64\n",
      "jenis_tanah              object\n",
      "tekstur_tanah            object\n",
      "dtype: object\n"
     ]
    },
    {
     "data": {
      "text/html": [
       "<div>\n",
       "<style scoped>\n",
       "    .dataframe tbody tr th:only-of-type {\n",
       "        vertical-align: middle;\n",
       "    }\n",
       "\n",
       "    .dataframe tbody tr th {\n",
       "        vertical-align: top;\n",
       "    }\n",
       "\n",
       "    .dataframe thead th {\n",
       "        text-align: right;\n",
       "    }\n",
       "</style>\n",
       "<table border=\"1\" class=\"dataframe\">\n",
       "  <thead>\n",
       "    <tr style=\"text-align: right;\">\n",
       "      <th></th>\n",
       "      <th>jenis_varietas</th>\n",
       "      <th>ph_min</th>\n",
       "      <th>ph_max</th>\n",
       "      <th>kelembapan_tanah_min</th>\n",
       "      <th>kelembapan_tanah_max</th>\n",
       "      <th>jenis_tanah</th>\n",
       "      <th>tekstur_tanah</th>\n",
       "    </tr>\n",
       "  </thead>\n",
       "  <tbody>\n",
       "    <tr>\n",
       "      <th>0</th>\n",
       "      <td>MM</td>\n",
       "      <td>4.5</td>\n",
       "      <td>7.7</td>\n",
       "      <td>0.3</td>\n",
       "      <td>0.6</td>\n",
       "      <td>asosiasi latosol cokelat dan regosol kelabu</td>\n",
       "      <td>lempung,liat, berpasir</td>\n",
       "    </tr>\n",
       "    <tr>\n",
       "      <th>1</th>\n",
       "      <td>MR</td>\n",
       "      <td>4.7</td>\n",
       "      <td>7.2</td>\n",
       "      <td>0.2</td>\n",
       "      <td>0.4</td>\n",
       "      <td>kompleks regosol dan litosol</td>\n",
       "      <td>lempung,liat,</td>\n",
       "    </tr>\n",
       "    <tr>\n",
       "      <th>2</th>\n",
       "      <td>MK</td>\n",
       "      <td>4.5</td>\n",
       "      <td>7.5</td>\n",
       "      <td>0.3</td>\n",
       "      <td>0.5</td>\n",
       "      <td>kompleks regosol dan litosol</td>\n",
       "      <td>lempung,liat, berpasir</td>\n",
       "    </tr>\n",
       "    <tr>\n",
       "      <th>3</th>\n",
       "      <td>MW</td>\n",
       "      <td>4.8</td>\n",
       "      <td>7.6</td>\n",
       "      <td>0.3</td>\n",
       "      <td>0.5</td>\n",
       "      <td>kompleks regosol dan litosol</td>\n",
       "      <td>lempung,liat, berpasir</td>\n",
       "    </tr>\n",
       "    <tr>\n",
       "      <th>4</th>\n",
       "      <td>MT</td>\n",
       "      <td>4.5</td>\n",
       "      <td>7.7</td>\n",
       "      <td>0.3</td>\n",
       "      <td>0.6</td>\n",
       "      <td>asosiasi latosol cokelat dan regosol kelabu</td>\n",
       "      <td>lempung,liat, berpasir</td>\n",
       "    </tr>\n",
       "  </tbody>\n",
       "</table>\n",
       "</div>"
      ],
      "text/plain": [
       "  jenis_varietas  ph_min  ph_max  kelembapan_tanah_min  kelembapan_tanah_max  \\\n",
       "0             MM     4.5     7.7                   0.3                   0.6   \n",
       "1             MR     4.7     7.2                   0.2                   0.4   \n",
       "2             MK     4.5     7.5                   0.3                   0.5   \n",
       "3             MW     4.8     7.6                   0.3                   0.5   \n",
       "4             MT     4.5     7.7                   0.3                   0.6   \n",
       "\n",
       "                                   jenis_tanah           tekstur_tanah  \n",
       "0  asosiasi latosol cokelat dan regosol kelabu  lempung,liat, berpasir  \n",
       "1                 kompleks regosol dan litosol          lempung,liat,   \n",
       "2                 kompleks regosol dan litosol  lempung,liat, berpasir  \n",
       "3                 kompleks regosol dan litosol  lempung,liat, berpasir  \n",
       "4  asosiasi latosol cokelat dan regosol kelabu  lempung,liat, berpasir  "
      ]
     },
     "execution_count": 12,
     "metadata": {},
     "output_type": "execute_result"
    }
   ],
   "source": [
    "cursor.execute(\"select * from varietas_tanah\")\n",
    "data= cursor.fetchall()\n",
    "# for row in data:\n",
    "#     print(row)\n",
    "\n",
    "# Mengambil nama kolom\n",
    "column_names = [i[0] for i in cursor.description]\n",
    "\n",
    "# Mengubah data menjadi DataFrame\n",
    "df = pd.DataFrame(data, columns=column_names)\n",
    "\n",
    "# Menampilkan DataFrame\n",
    "print(df.dtypes)\n",
    "df.head()\n",
    "\n"
   ]
  },
  {
   "cell_type": "markdown",
   "metadata": {},
   "source": [
    "Cek kolom"
   ]
  },
  {
   "cell_type": "code",
   "execution_count": 10,
   "metadata": {},
   "outputs": [
    {
     "name": "stdout",
     "output_type": "stream",
     "text": [
      "[('nama_lahan', 'text', 'YES', '', None, ''), ('suhu_mean', 'double', 'YES', '', None, ''), ('curah_hujan', 'double', 'YES', '', None, ''), ('kelembapan_udara', 'double', 'YES', '', None, ''), ('penyinaran', 'double', 'YES', '', None, '')]\n"
     ]
    }
   ],
   "source": [
    "cursor.execute(\"desc lahan_iklim\")\n",
    "\n",
    "print(cursor.fetchall())"
   ]
  }
 ],
 "metadata": {
  "kernelspec": {
   "display_name": "Python 3",
   "language": "python",
   "name": "python3"
  },
  "language_info": {
   "codemirror_mode": {
    "name": "ipython",
    "version": 3
   },
   "file_extension": ".py",
   "mimetype": "text/x-python",
   "name": "python",
   "nbconvert_exporter": "python",
   "pygments_lexer": "ipython3",
   "version": "3.11.5"
  }
 },
 "nbformat": 4,
 "nbformat_minor": 2
}
